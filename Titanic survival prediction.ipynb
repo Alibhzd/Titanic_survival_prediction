{
 "cells": [
  {
   "cell_type": "markdown",
   "id": "d6a5f495",
   "metadata": {},
   "source": [
    "# Titanic Survival Prediction"
   ]
  },
  {
   "cell_type": "markdown",
   "id": "2a35c494",
   "metadata": {},
   "source": [
    "# Introduction"
   ]
  },
  {
   "cell_type": "markdown",
   "id": "aee450f7",
   "metadata": {},
   "source": [
    "This dataset has been acquired from Kaggle: https://www.kaggle.com/competitions/titanic/data\n",
    "\n",
    "\n",
    "The analysis of this dataset has two phases. The first phase includes the exploratory data analysis and data visualization to better understand the relationships and patterns within the dataset. In the second phase, i have used machine learning algorithms to predict the number of survived people from Titanic. At the end, i have checked my prediction by uploading it onto Kaggle where it avaluates how good my prediction was.\n"
   ]
  },
  {
   "cell_type": "markdown",
   "id": "4c3a0ae5",
   "metadata": {},
   "source": [
    "# Exploratory data analysis"
   ]
  },
  {
   "cell_type": "code",
   "execution_count": null,
   "id": "dd831002",
   "metadata": {},
   "outputs": [],
   "source": [
    "import numpy as np\n",
    "import pandas as pd\n",
    "import seaborn as sns\n",
    "import matplotlib.pyplot as plt\n",
    "\n",
    "from sklearn.linear_model import LogisticRegression\n",
    "from sklearn.model_selection import train_test_split\n",
    "\n",
    "from sklearn.preprocessing import StandardScaler, OneHotEncoder\n",
    "from sklearn.impute import SimpleImputer\n",
    "from sklearn.compose import ColumnTransformer\n",
    "from sklearn.pipeline import Pipeline\n",
    "from sklearn.preprocessing import KBinsDiscretizer\n",
    "from sklearn.ensemble import RandomForestClassifier\n",
    "\n",
    "from sklearn.tree import DecisionTreeClassifier\n",
    "\n",
    "# evaluation metrics\n",
    "from sklearn.metrics import accuracy_score, precision_score, recall_score, classification_report  \n",
    "from sklearn.metrics import confusion_matrix, ConfusionMatrixDisplay\n",
    "\n",
    "from sklearn import set_config\n",
    "set_config(transform_output='pandas')"
   ]
  },
  {
   "cell_type": "code",
   "execution_count": null,
   "id": "b02fceb1",
   "metadata": {},
   "outputs": [],
   "source": [
    "df = pd.read_csv('data/trainset_Titanic.csv')\n",
    "df.head()"
   ]
  },
  {
   "cell_type": "code",
   "execution_count": null,
   "id": "ed6b607b",
   "metadata": {},
   "outputs": [],
   "source": [
    "df['Age'].isna().sum()"
   ]
  },
  {
   "cell_type": "code",
   "execution_count": null,
   "id": "adeb2575",
   "metadata": {},
   "outputs": [],
   "source": [
    "df.shape"
   ]
  },
  {
   "cell_type": "code",
   "execution_count": null,
   "id": "2b9ed573",
   "metadata": {},
   "outputs": [],
   "source": [
    "counts = df['Survived'].value_counts()"
   ]
  },
  {
   "cell_type": "code",
   "execution_count": null,
   "id": "c2e0590f",
   "metadata": {},
   "outputs": [],
   "source": [
    "plot = counts.plot(kind = 'bar', xlabel = 'Survival status', ylabel = 'count')\n",
    "\n",
    "plt.title(\"Number of passengers survived and not survived\", weight = 'bold', fontsize =12)\n",
    "plt.xlabel('Survival Status', fontsize = 11)\n",
    "plt.ylabel('Count', fontsize = 11)\n",
    "\n",
    "plot.spines['top'].set_visible(False)\n",
    "plot.spines['right'].set_visible(False)\n",
    "\n",
    "\n",
    "Survival_status_labels = ['Not Survived', 'Survived']  # Custom labels for the levels\n",
    "plot.set_xticklabels(Survival_status_labels)\n",
    "\n",
    "# Rotating the x-tick labels\n",
    "plt.xticks(rotation=0) # rotation 0 is horizontal"
   ]
  },
  {
   "cell_type": "code",
   "execution_count": null,
   "id": "5a7034a5",
   "metadata": {},
   "outputs": [],
   "source": [
    "#first class passengers\n",
    "first_class = df[df['Pclass'] == 1]\n",
    "\n",
    "\n",
    "first_class['Survived'].value_counts(normalize = True)"
   ]
  },
  {
   "cell_type": "code",
   "execution_count": null,
   "id": "47a2f62c",
   "metadata": {},
   "outputs": [],
   "source": [
    "\n",
    "#the first class passengers who survived\n",
    "survived_firstclass = first_class[first_class['Survived'] == 1]\n",
    "survived_firstclass.head()\n"
   ]
  },
  {
   "cell_type": "code",
   "execution_count": null,
   "id": "cd613985",
   "metadata": {},
   "outputs": [],
   "source": [
    "total_firstclass = df[df['Pclass'] == 1]['Pclass'].sum()\n",
    "total_firstclass"
   ]
  },
  {
   "cell_type": "code",
   "execution_count": null,
   "id": "71c57ce2",
   "metadata": {},
   "outputs": [],
   "source": [
    "#proportaion\n",
    "proportion = len(survived_firstclass) / total_firstclass\n",
    "proportion"
   ]
  },
  {
   "cell_type": "code",
   "execution_count": null,
   "id": "2611622b",
   "metadata": {},
   "outputs": [],
   "source": [
    "newdf = df[['Pclass', 'Sex']]\n",
    "newdf"
   ]
  },
  {
   "cell_type": "code",
   "execution_count": null,
   "id": "7a51be57",
   "metadata": {},
   "outputs": [],
   "source": [
    "plt.figure(figsize=(8, 6)) \n",
    "\n",
    "custom_palette = [\"orange\", \"green\", \"blue\"]\n",
    "\n",
    "plot = sns.barplot(x = 'Sex', y = 'Survived', hue = 'Pclass', palette = custom_palette,data = df)\n",
    "plt.xlabel(\"Sex\", size = 12)\n",
    "plt.ylabel(\"Survival rate\", size = 12)\n",
    "\n",
    "plot.spines['top'].set_visible(False)\n",
    "plot.spines['right'].set_visible(False)\n",
    "\n",
    "\n",
    "Survival_status_labels = ['Not Survived', 'Survived']  # Custom labels for the levels\n",
    "plot.set_xticklabels(Survival_status_labels)\n",
    "\n",
    "\n",
    "legend = plt.legend(title='Passenger Class', loc='upper left', fontsize = 9)\n",
    "legend.get_frame().set_linewidth(0)  # Remove legend frame border\n",
    "legend.texts[0].set_text('First')  # Change legend label text\n",
    "legend.texts[1].set_text('Second')  \n",
    "legend.texts[2].set_text('Third')\n",
    "\n",
    "\n"
   ]
  },
  {
   "cell_type": "code",
   "execution_count": null,
   "id": "771becd6",
   "metadata": {},
   "outputs": [],
   "source": [
    "plt.figure(figsize=(8, 6)) \n",
    "plot = sns.histplot(x = 'Age' ,hue = 'Survived', data = df, element = 'poly')\n",
    "\n",
    "plt.xlabel(\"Age\", size = 12)\n",
    "plt.ylabel(\"Survival count\", size = 12)\n",
    "\n",
    "\n",
    "plot.spines['top'].set_visible(False)\n",
    "plot.spines['right'].set_visible(False)\n",
    "\n"
   ]
  },
  {
   "cell_type": "code",
   "execution_count": null,
   "id": "e6801785",
   "metadata": {},
   "outputs": [],
   "source": [
    "survived = df[df['Survived'] == 1]\n",
    "\n",
    "survived = survived['Age'].mean()\n",
    "\n",
    "print('The average age of the survived passengers is:', survived)"
   ]
  },
  {
   "cell_type": "code",
   "execution_count": null,
   "id": "c133a1dc",
   "metadata": {},
   "outputs": [],
   "source": [
    "drowned = df[df['Survived'] == 0]\n",
    "drowned = drowned['Age'].mean()\n",
    "\n",
    "print('The average age of the dronwed passengers is:', drowned)"
   ]
  },
  {
   "cell_type": "code",
   "execution_count": null,
   "id": "7beb52cf",
   "metadata": {},
   "outputs": [],
   "source": [
    "df.head(10)"
   ]
  },
  {
   "cell_type": "code",
   "execution_count": null,
   "id": "1b5c7eda",
   "metadata": {},
   "outputs": [],
   "source": [
    "mean_age = df['Age'].mean()\n",
    "mean_age"
   ]
  },
  {
   "cell_type": "code",
   "execution_count": null,
   "id": "bea6c7c1",
   "metadata": {},
   "outputs": [],
   "source": [
    "# Replace missing age values by the mean age.\n",
    "df['Age'] = df['Age'].fillna(mean_age)\n",
    "df.head(20)\n",
    "df.Age.isna().sum()"
   ]
  },
  {
   "cell_type": "code",
   "execution_count": null,
   "id": "aa86ca4e",
   "metadata": {},
   "outputs": [],
   "source": [
    "#Create a table counting the number of surviving/dead passengers separately for 1st/2nd/3rd class and male/female.\n",
    "\n",
    "group_df = df.groupby(['Pclass', 'Sex'])"
   ]
  },
  {
   "cell_type": "code",
   "execution_count": null,
   "id": "572441ca",
   "metadata": {},
   "outputs": [],
   "source": [
    "survived = group_df['Survived'].agg(['sum', 'count']).rename(columns = {'sum': 'Survived', 'count': 'Total'})"
   ]
  },
  {
   "cell_type": "code",
   "execution_count": null,
   "id": "d6d55bba",
   "metadata": {},
   "outputs": [],
   "source": [
    "survived['Drowned'] = survived['Total'] - survived['Survived']\n",
    "survived"
   ]
  },
  {
   "cell_type": "code",
   "execution_count": null,
   "id": "c39ea772",
   "metadata": {},
   "outputs": [],
   "source": [
    "print(survived.columns)"
   ]
  },
  {
   "cell_type": "code",
   "execution_count": null,
   "id": "a0707cf7",
   "metadata": {},
   "outputs": [],
   "source": [
    "survived = survived.reset_index()\n",
    "survived"
   ]
  },
  {
   "cell_type": "code",
   "execution_count": null,
   "id": "cd82428c",
   "metadata": {},
   "outputs": [],
   "source": [
    "sns.set_style('whitegrid')\n",
    "plt.figure(figsize = (8, 6))\n",
    "\n",
    "custom_palette = ['lightgreen', 'lightblue']\n",
    "\n",
    "plot= sns.barplot(x = 'Pclass', y = 'Survived', hue = 'Sex', palette = custom_palette, data = survived)\n",
    "\n",
    "plt.xlabel(\"Passenger Class\", weight = 'bold', size= 11)\n",
    "plt.ylabel(\"Survival Count\",  weight = 'bold', size= 11)\n",
    "plt.title(\"Survival Count by Passenger Class and Sex\",  weight = 'bold', size= 11)\n",
    "\n",
    "\n",
    "plot.spines['top'].set_visible(False)\n",
    "plot.spines['right'].set_visible(False)\n",
    "\n",
    "\n",
    "Survival_status_labels = ['First', 'Second', 'Third']  # Custom labels for the levels\n",
    "plot.set_xticklabels(Survival_status_labels)\n",
    "\n",
    "\n",
    "legend = plt.legend(title='Sex', loc='upper right', fontsize = 9)\n",
    "legend.get_frame().set_linewidth(0)  # Remove legend frame border\n",
    "legend.texts[0].set_text('Female')  # Change legend label text\n",
    "legend.texts[1].set_text('Male')  "
   ]
  },
  {
   "cell_type": "markdown",
   "id": "aa0a97f4",
   "metadata": {},
   "source": [
    "# Machine learning algorithms"
   ]
  },
  {
   "cell_type": "code",
   "execution_count": null,
   "id": "475d1209",
   "metadata": {},
   "outputs": [],
   "source": [
    "df = pd.read_csv('data/train.csv')\n",
    "df.head()"
   ]
  },
  {
   "cell_type": "code",
   "execution_count": null,
   "id": "8851a241",
   "metadata": {
    "scrolled": true
   },
   "outputs": [],
   "source": [
    "# check the missing values\n",
    "df.isna().sum()"
   ]
  },
  {
   "cell_type": "code",
   "execution_count": null,
   "id": "96b4c1e2",
   "metadata": {},
   "outputs": [],
   "source": [
    "mean_age = df['Age'].mean()\n",
    "mean_age"
   ]
  },
  {
   "cell_type": "code",
   "execution_count": null,
   "id": "a6654662",
   "metadata": {
    "scrolled": true
   },
   "outputs": [],
   "source": [
    "df['Age'] = df['Age'].fillna(mean_age)\n",
    "df.head(20)\n",
    "df.Age.isna().sum()"
   ]
  },
  {
   "cell_type": "code",
   "execution_count": null,
   "id": "f59bb586",
   "metadata": {},
   "outputs": [],
   "source": [
    "df.Sex.unique()"
   ]
  },
  {
   "cell_type": "code",
   "execution_count": null,
   "id": "d8260013",
   "metadata": {},
   "outputs": [],
   "source": [
    "df.Pclass.unique()"
   ]
  },
  {
   "cell_type": "markdown",
   "id": "a3a3e8f2",
   "metadata": {},
   "source": [
    "## Test-train-Split"
   ]
  },
  {
   "cell_type": "code",
   "execution_count": null,
   "id": "df468c77",
   "metadata": {},
   "outputs": [],
   "source": [
    "x = df[['Pclass', 'Sex', 'Age']]\n",
    "y = df['Survived']"
   ]
  },
  {
   "cell_type": "code",
   "execution_count": null,
   "id": "2259af18",
   "metadata": {},
   "outputs": [],
   "source": [
    "x.head()"
   ]
  },
  {
   "cell_type": "code",
   "execution_count": null,
   "id": "129d668d",
   "metadata": {},
   "outputs": [],
   "source": [
    "x_train, x_val, y_train, y_val = train_test_split(x,y, random_state=42)\n",
    "\n",
    "x_train.shape, x_val.shape, y_train.shape, y_val.shape\n",
    "#x_train\n",
    "#x_train.isna().sum().sum()"
   ]
  },
  {
   "cell_type": "code",
   "execution_count": null,
   "id": "62fa5ad9",
   "metadata": {},
   "outputs": [],
   "source": [
    "#df['Sex'] = pd.to_numeric(df['Sex'], errors = 'coerce')\n",
    "\n",
    "#print(df['Sex'].dtype)"
   ]
  },
  {
   "cell_type": "code",
   "execution_count": null,
   "id": "e5b18e48",
   "metadata": {},
   "outputs": [],
   "source": [
    "#df['Age'].unique()\n",
    "#df['Age'] = pd.to_numeric(df['Age'], errors = 'coerce')\n",
    "\n",
    "print(df['Age'].dtype)\n"
   ]
  },
  {
   "cell_type": "code",
   "execution_count": null,
   "id": "a8d1339a",
   "metadata": {},
   "outputs": [],
   "source": [
    "column_transform = ColumnTransformer(\n",
    "    [(\"encoder\", OneHotEncoder(handle_unknown = \"ignore\", sparse = False, drop = 'first'), ['Sex']),\n",
    "     (\"binner\" , KBinsDiscretizer(n_bins=4, encode='onehot-dense', strategy='quantile'), ['Age'])\n",
    "    ],\n",
    "    remainder = 'passthrough'\n",
    ")"
   ]
  },
  {
   "cell_type": "code",
   "execution_count": null,
   "id": "8701141b",
   "metadata": {
    "scrolled": true
   },
   "outputs": [],
   "source": [
    "x_train_transform = column_transform.fit_transform(x_train)\n",
    "x_train_transform"
   ]
  },
  {
   "cell_type": "code",
   "execution_count": null,
   "id": "289ea70f",
   "metadata": {},
   "outputs": [],
   "source": [
    "# run the column transformation for the validation data set too so that they both have the similar and updated columns\n",
    "x_val_transform = column_transform.transform(x_val)\n",
    "x_val_transform"
   ]
  },
  {
   "cell_type": "markdown",
   "id": "22f880e7",
   "metadata": {},
   "source": [
    "## Logistic Regression"
   ]
  },
  {
   "cell_type": "code",
   "execution_count": null,
   "id": "8ee5e3fb",
   "metadata": {},
   "outputs": [],
   "source": [
    "logreg = LogisticRegression()\n",
    "logreg.fit(x_train_transform, y_train)"
   ]
  },
  {
   "cell_type": "code",
   "execution_count": null,
   "id": "8d18b815",
   "metadata": {
    "scrolled": true
   },
   "outputs": [],
   "source": [
    "logreg.score(x_train_transform, y_train)"
   ]
  },
  {
   "cell_type": "code",
   "execution_count": null,
   "id": "8082389a",
   "metadata": {},
   "outputs": [],
   "source": [
    "logreg.score(x_val_transform, y_val)"
   ]
  },
  {
   "cell_type": "markdown",
   "id": "b515ef6e",
   "metadata": {},
   "source": [
    "## Decision Trees"
   ]
  },
  {
   "cell_type": "markdown",
   "id": "db6699d3",
   "metadata": {},
   "source": [
    "### Run Training Model"
   ]
  },
  {
   "cell_type": "code",
   "execution_count": null,
   "id": "38b0c80d",
   "metadata": {},
   "outputs": [],
   "source": [
    "clf_DT = DecisionTreeClassifier(max_depth = 4, random_state = 42) # ccp_alpha = 0.01  - tree pruning"
   ]
  },
  {
   "cell_type": "code",
   "execution_count": null,
   "id": "98f48f4f",
   "metadata": {},
   "outputs": [],
   "source": [
    "clf_DT.fit(x_train_transform, y_train)"
   ]
  },
  {
   "cell_type": "markdown",
   "id": "c4076d8a",
   "metadata": {},
   "source": [
    "### Make predictions"
   ]
  },
  {
   "cell_type": "code",
   "execution_count": null,
   "id": "43729120",
   "metadata": {},
   "outputs": [],
   "source": [
    "clf_DT_predict = clf_DT.predict(x_val_transform)\n",
    "clf_DT_predict"
   ]
  },
  {
   "cell_type": "code",
   "execution_count": null,
   "id": "65080bdf",
   "metadata": {},
   "outputs": [],
   "source": [
    "# compare our predictions with the actual info and see whether they are good or not!\n",
    "\n",
    "accuracy_score(y_val, clf_DT_predict)"
   ]
  },
  {
   "cell_type": "code",
   "execution_count": null,
   "id": "08867bf0",
   "metadata": {},
   "outputs": [],
   "source": [
    "confusion_matrix(y_val, clf_DT_predict)"
   ]
  },
  {
   "cell_type": "code",
   "execution_count": null,
   "id": "c6dfa4d5",
   "metadata": {},
   "outputs": [],
   "source": [
    "##ConfusionMatrixDisplay.from_predictions"
   ]
  },
  {
   "cell_type": "code",
   "execution_count": null,
   "id": "027294ae",
   "metadata": {},
   "outputs": [],
   "source": [
    "precision_score(y_val, clf_DT_predict)"
   ]
  },
  {
   "cell_type": "code",
   "execution_count": null,
   "id": "63cf9132",
   "metadata": {},
   "outputs": [],
   "source": [
    "recall_score(y_val, clf_DT_predict)"
   ]
  },
  {
   "cell_type": "code",
   "execution_count": null,
   "id": "de4630f0",
   "metadata": {},
   "outputs": [],
   "source": [
    "print(classification_report(y_val, clf_DT_predict, target_names=['Not Survived', 'Survived']))"
   ]
  },
  {
   "cell_type": "code",
   "execution_count": null,
   "id": "1f8c01c0",
   "metadata": {},
   "outputs": [],
   "source": [
    "# check which features are more important the others\n",
    "feature_names = x_train_transform.columns\n",
    "feature_names"
   ]
  },
  {
   "cell_type": "markdown",
   "id": "bc9730ce",
   "metadata": {},
   "source": [
    "- Note about **feature importances**: The importance score represents the relative contribution of a feature to the model's ability to make accurate predictions. Higher values indicate greater importance, while lower values indicate lesser importance. \n",
    "    The sum of all feature importances is usually equal to 1."
   ]
  },
  {
   "cell_type": "code",
   "execution_count": null,
   "id": "bdc8b2d6",
   "metadata": {},
   "outputs": [],
   "source": [
    "# the list correspond to the features\n",
    "\n",
    "clf_DT.feature_importances_"
   ]
  },
  {
   "cell_type": "code",
   "execution_count": null,
   "id": "7cc166cd",
   "metadata": {},
   "outputs": [],
   "source": [
    "feature_imporatance = pd.DataFrame(clf_DT.feature_importances_, index = feature_names).sort_values(by = 0, ascending=False)\n",
    "feature_imporatance"
   ]
  },
  {
   "cell_type": "code",
   "execution_count": null,
   "id": "0400d85d",
   "metadata": {},
   "outputs": [],
   "source": [
    "# plot of the feature importances\n",
    "feature_imporatance.plot(kind = 'bar')\n"
   ]
  },
  {
   "cell_type": "markdown",
   "id": "f12da808",
   "metadata": {},
   "source": [
    "### Plotting the Decision Trees"
   ]
  },
  {
   "cell_type": "code",
   "execution_count": null,
   "id": "1909d82d",
   "metadata": {},
   "outputs": [],
   "source": [
    "# plotting the actual tree of the model decides\n",
    "from sklearn import tree\n",
    "\n",
    "fig = plt.figure(figsize=(25,20))\n",
    "plot = tree.plot_tree(clf_DT, \n",
    "                   feature_names=feature_names,  #refers to columns\n",
    "                   class_names={0:'Not Survived', 1:'Survived'},\n",
    "                   filled=True,\n",
    "                  fontsize=12)"
   ]
  },
  {
   "cell_type": "markdown",
   "id": "3d6ef822",
   "metadata": {},
   "source": [
    "## Random Forest"
   ]
  },
  {
   "cell_type": "code",
   "execution_count": null,
   "id": "d61cf84c",
   "metadata": {},
   "outputs": [],
   "source": [
    "clf_RF = RandomForestClassifier(n_estimators = 10, max_depth = 2)\n",
    "\n",
    "clf_RF.fit(x_train_transform, y_train)"
   ]
  },
  {
   "cell_type": "code",
   "execution_count": null,
   "id": "0f314ea2",
   "metadata": {},
   "outputs": [],
   "source": [
    "clf_RF_preds = pd.DataFrame(clf_RF.predict(x_val_transform))"
   ]
  },
  {
   "cell_type": "code",
   "execution_count": null,
   "id": "aacd1c34",
   "metadata": {},
   "outputs": [],
   "source": [
    "accuracy_score(y_true = y_val, y_pred = clf_RF_preds)\n"
   ]
  },
  {
   "cell_type": "markdown",
   "id": "82e9e314",
   "metadata": {},
   "source": [
    "## Evaluating of the prediction on Kaggle"
   ]
  },
  {
   "cell_type": "markdown",
   "id": "9a39ba7f",
   "metadata": {},
   "source": [
    "### Based on logistic Regression model"
   ]
  },
  {
   "cell_type": "code",
   "execution_count": null,
   "id": "55425241",
   "metadata": {},
   "outputs": [],
   "source": [
    "test_df = pd.read_csv('data/test.csv')\n",
    "test_df.head()\n",
    "test_df.shape"
   ]
  },
  {
   "cell_type": "code",
   "execution_count": null,
   "id": "6d34aab1",
   "metadata": {},
   "outputs": [],
   "source": [
    "test_df.isna().sum()"
   ]
  },
  {
   "cell_type": "code",
   "execution_count": null,
   "id": "0e8acf71",
   "metadata": {},
   "outputs": [],
   "source": [
    "meanAge = test_df['Age'].mean()\n",
    "meanAge"
   ]
  },
  {
   "cell_type": "code",
   "execution_count": null,
   "id": "722bfe5a",
   "metadata": {},
   "outputs": [],
   "source": [
    "test_df['Age'] = test_df['Age'].fillna(meanAge)\n",
    "test_df.isna().sum()"
   ]
  },
  {
   "cell_type": "code",
   "execution_count": null,
   "id": "2f102e0d",
   "metadata": {},
   "outputs": [],
   "source": [
    "x = test_df[['Pclass', 'Sex', 'Age']]\n",
    "x.head()"
   ]
  },
  {
   "cell_type": "code",
   "execution_count": null,
   "id": "6cc52b22",
   "metadata": {},
   "outputs": [],
   "source": [
    "column_transformation = ColumnTransformer(\n",
    "    [(\"encoder\", OneHotEncoder(handle_unknown = \"ignore\", sparse = False, drop = 'first'), ['Sex']),\n",
    "     (\"binner\" , KBinsDiscretizer(n_bins=4, encode='onehot-dense', strategy='quantile'), ['Age'])\n",
    "    ],\n",
    "    remainder = 'passthrough'\n",
    ")"
   ]
  },
  {
   "cell_type": "code",
   "execution_count": null,
   "id": "bdba6fc3",
   "metadata": {},
   "outputs": [],
   "source": [
    "x_columntransformation = column_transformation.fit_transform(x)\n",
    "x_columntransformation.head()"
   ]
  },
  {
   "cell_type": "code",
   "execution_count": null,
   "id": "d81a858d",
   "metadata": {},
   "outputs": [],
   "source": [
    "predict = logreg.predict(x_columntransformation)\n",
    "predict.shape"
   ]
  },
  {
   "cell_type": "code",
   "execution_count": null,
   "id": "7ef6c09d",
   "metadata": {},
   "outputs": [],
   "source": [
    "submission = pd.DataFrame({'PassengerId': test_df['PassengerId'], 'Survived': predict})\n",
    "submission.to_csv('submission.csv', index=False)"
   ]
  }
 ],
 "metadata": {
  "kernelspec": {
   "display_name": "Python 3 (ipykernel)",
   "language": "python",
   "name": "python3"
  },
  "language_info": {
   "codemirror_mode": {
    "name": "ipython",
    "version": 3
   },
   "file_extension": ".py",
   "mimetype": "text/x-python",
   "name": "python",
   "nbconvert_exporter": "python",
   "pygments_lexer": "ipython3",
   "version": "3.10.9"
  }
 },
 "nbformat": 4,
 "nbformat_minor": 5
}
